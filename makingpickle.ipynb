{
 "cells": [
  {
   "cell_type": "markdown",
   "id": "cb981675-e279-4946-b717-68ae21f00333",
   "metadata": {},
   "source": [
    "MAKING OF THE PICKLE FILE"
   ]
  },
  {
   "cell_type": "code",
   "execution_count": null,
   "id": "32af6ac2-68b4-4fb0-bb66-2847de89bee3",
   "metadata": {},
   "outputs": [],
   "source": [
    "import pandas as pd\n",
    "import numpy as np"
   ]
  },
  {
   "cell_type": "code",
   "execution_count": null,
   "id": "a253ca82-3e11-488d-a33a-5ac338106556",
   "metadata": {},
   "outputs": [],
   "source": [
    "ls"
   ]
  },
  {
   "cell_type": "code",
   "execution_count": null,
   "id": "18dd46b4-18a8-40aa-bae6-128b67e2a888",
   "metadata": {},
   "outputs": [],
   "source": [
    "import pandas as pd\n",
    "import numpy as np"
   ]
  },
  {
   "cell_type": "code",
   "execution_count": null,
   "id": "3ecd6bb7-7a6c-4843-b1fb-ebf8dbde5340",
   "metadata": {},
   "outputs": [],
   "source": [
    "df0 = pd.read_csv('dataset4_for_Machine_Learning_MAO-B (1).csv')"
   ]
  },
  {
   "cell_type": "code",
   "execution_count": null,
   "id": "24cd8ec9-d0fc-47e6-a7c2-af4a49c04de4",
   "metadata": {},
   "outputs": [],
   "source": [
    "df = df0.drop('LogP', axis=1)\n",
    "df"
   ]
  },
  {
   "cell_type": "code",
   "execution_count": null,
   "id": "532e6cb9-51d8-44ae-8167-ad0daeacbfa8",
   "metadata": {},
   "outputs": [],
   "source": [
    "X = df.drop('pIC50', axis=1)\n",
    "X"
   ]
  },
  {
   "cell_type": "code",
   "execution_count": null,
   "id": "6659c847-2d21-4d60-83ca-f046e22b1487",
   "metadata": {},
   "outputs": [],
   "source": [
    "from sklearn.feature_selection import VarianceThreshold\n",
    "\n",
    "def remove_low_variance(input_data, threshold=0.16):\n",
    "    selection = VarianceThreshold(threshold)\n",
    "    selection.fit(input_data)\n",
    "    return input_data[input_data.columns[selection.get_support(indices=True)]]\n",
    "\n",
    "X = remove_low_variance(X, threshold=0.16)\n",
    "X"
   ]
  },
  {
   "cell_type": "code",
   "execution_count": null,
   "id": "7d69f86a-a6c8-4c04-a9cd-3ef52e0db61b",
   "metadata": {},
   "outputs": [],
   "source": [
    "Y = df.pIC50\n",
    "Y"
   ]
  },
  {
   "cell_type": "markdown",
   "id": "45c99679-ba33-4455-9344-ca152e8885c8",
   "metadata": {},
   "source": [
    "DATA PREPROCESSING"
   ]
  },
  {
   "cell_type": "code",
   "execution_count": null,
   "id": "160d64f6-0ccf-4c02-9a5a-56e188ebe27e",
   "metadata": {},
   "outputs": [],
   "source": [
    "X"
   ]
  },
  {
   "cell_type": "code",
   "execution_count": null,
   "id": "32e37bf8-dab9-4db3-b481-94996684942a",
   "metadata": {},
   "outputs": [],
   "source": [
    "X.to_csv('descriptor_list.csv', index=False)"
   ]
  },
  {
   "cell_type": "markdown",
   "id": "2b8fab6f-8a2e-4858-8ef3-08b6f799c8f4",
   "metadata": {},
   "source": [
    "RANDOM FOREST REGRESSION MODEL"
   ]
  },
  {
   "cell_type": "code",
   "execution_count": null,
   "id": "c04ba276-120e-4121-b1af-1586cf46d380",
   "metadata": {},
   "outputs": [],
   "source": [
    "from sklearn.ensemble import RandomForestRegressor\n",
    "from sklearn.metrics import mean_squared_error, r2_score"
   ]
  },
  {
   "cell_type": "code",
   "execution_count": null,
   "id": "1b91a3f5-ab95-47c4-a7a2-16a5414f4810",
   "metadata": {},
   "outputs": [],
   "source": [
    "model = RandomForestRegressor(n_estimators=500, random_state=42)\n",
    "model.fit(X, Y)\n",
    "r2 = model.score(X, Y)\n",
    "print(r2)"
   ]
  },
  {
   "cell_type": "markdown",
   "id": "87e70c4d-7d7e-4d31-bf0f-b4d0ad5df1cb",
   "metadata": {},
   "source": [
    "MODEL PREDICTION"
   ]
  },
  {
   "cell_type": "code",
   "execution_count": null,
   "id": "96d57f39-ec25-43e0-9103-ff2e5444e460",
   "metadata": {},
   "outputs": [],
   "source": [
    "Y_pred = model.predict(X)\n",
    "Y_pred"
   ]
  },
  {
   "cell_type": "markdown",
   "id": "647b49f2-b521-47db-b60b-5415adc9b1a6",
   "metadata": {},
   "source": [
    "MODEL PERFORMANCE"
   ]
  },
  {
   "cell_type": "code",
   "execution_count": null,
   "id": "45a15f6f-9391-4182-afbc-23c2716c890e",
   "metadata": {},
   "outputs": [],
   "source": [
    "print('Mean squared error (MSE): %.2f'\n",
    "      % mean_squared_error(Y, Y_pred))\n",
    "print('Coefficient of determination (R^2): %.2f'\n",
    "      % r2_score(Y, Y_pred))"
   ]
  },
  {
   "cell_type": "markdown",
   "id": "f1809c5f-e726-4cc4-ad75-106bb5392c72",
   "metadata": {},
   "source": [
    "Data Visualization (Experimental vs Predicted pIC50 for Training Data)"
   ]
  },
  {
   "cell_type": "code",
   "execution_count": null,
   "id": "dd963dde-acff-4d7e-b345-cfb0793fa1f8",
   "metadata": {},
   "outputs": [],
   "source": [
    "import matplotlib.pyplot as plt\n",
    "import numpy as np"
   ]
  },
  {
   "cell_type": "code",
   "execution_count": null,
   "id": "4c61b13b-be90-46ff-a1d8-7831ca958822",
   "metadata": {},
   "outputs": [],
   "source": [
    "plt.figure(figsize=(5,5))\n",
    "plt.scatter(x=Y, y=Y_pred, c=\"#7CAE00\", alpha=0.3)\n",
    "\n",
    "# Add trendline\n",
    "# https://stackoverflow.com/questions/26447191/how-to-add-trendline-in-python-matplotlib-dot-scatter-graphs\n",
    "z = np.polyfit(Y, Y_pred, 1)\n",
    "p = np.poly1d(z)\n",
    "\n",
    "plt.plot(Y,p(Y),\"#F8766D\")\n",
    "plt.ylabel('Predicted pIC50')\n",
    "plt.xlabel('Experimental pIC50')"
   ]
  },
  {
   "cell_type": "markdown",
   "id": "378fecd1-423c-4e80-aa2c-e07117bf3ecd",
   "metadata": {},
   "source": [
    "SAVE MODEL AS PICKLE OBJECT"
   ]
  },
  {
   "cell_type": "code",
   "execution_count": null,
   "id": "a89fd7f3-4770-44a2-8802-a10ebc3aefe3",
   "metadata": {},
   "outputs": [],
   "source": [
    "import pickle"
   ]
  },
  {
   "cell_type": "code",
   "execution_count": null,
   "id": "817e975a-bb1b-4dd6-9868-6a548bfa85b4",
   "metadata": {},
   "outputs": [],
   "source": [
    "pickle.dump(model, open('MAO-b1.pkl', 'wb'))"
   ]
  },
  {
   "cell_type": "code",
   "execution_count": null,
   "id": "c81fa78b-c93a-4d46-8297-9d16e36fb2a9",
   "metadata": {},
   "outputs": [],
   "source": []
  }
 ],
 "metadata": {
  "kernelspec": {
   "display_name": "Python 3 (ipykernel)",
   "language": "python",
   "name": "python3"
  },
  "language_info": {
   "codemirror_mode": {
    "name": "ipython",
    "version": 3
   },
   "file_extension": ".py",
   "mimetype": "text/x-python",
   "name": "python",
   "nbconvert_exporter": "python",
   "pygments_lexer": "ipython3",
   "version": "3.12.7"
  }
 },
 "nbformat": 4,
 "nbformat_minor": 5
}
